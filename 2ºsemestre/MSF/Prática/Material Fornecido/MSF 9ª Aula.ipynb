{
 "cells": [
  {
   "cell_type": "markdown",
   "metadata": {},
   "source": [
    "### Considerar os seguintes dados para os próximos problemas\n",
    "\n",
    "m = 75 Kg\n",
    "\n",
    "$\\mu$ = 0.004  Coefieciente de resistência de um piso liso de alcatrão\n",
    "\n",
    "$C_{res}$ = 0.9  Coeficiente de resistência do ar\n",
    "\n",
    "$\\rho_{ar}$ = 1.225 Kg/$m^3$\n",
    "\n",
    "$A_{tronco}$ = 0.3 $m^2$"
   ]
  },
  {
   "cell_type": "markdown",
   "metadata": {},
   "source": [
    "## 11.\n",
    "\n",
    "Muitos ciclistas amadores conduzem com o tronco levantado. Esta posição aumenta a área de varrimento para o dobro. \n",
    "\n",
    "\n",
    "a) Calcule a potência a desenvolver pelo ciclista se a velocidade for 30 km/h. \n",
    "\n"
   ]
  },
  {
   "cell_type": "code",
   "execution_count": 8,
   "metadata": {},
   "outputs": [
    {
     "name": "stdout",
     "output_type": "stream",
     "text": [
      "Potencia:  120.20312500000003 W\n"
     ]
    }
   ],
   "source": [
    "mu=0.004\n",
    "Cres=0.9\n",
    "A=0.3\n",
    "densidade=1.225\n",
    "v=30/3.6\n",
    "massa=75\n",
    "g=9.8\n",
    "\n",
    "fCicl=mu*massa*g+Cres/2*A*densidade*v**2\n",
    "potencia=fCicl*v\n",
    "\n",
    "print(\"Potencia: \",potencia, \"W\")"
   ]
  },
  {
   "cell_type": "markdown",
   "metadata": {},
   "source": [
    "b) E se a velocidade for de 40 km/h, qual a potência desenvolvida pelo ciclista?\n",
    "\n",
    "\n",
    "Considere as mesmas condições do ciclista do problema 9."
   ]
  },
  {
   "cell_type": "code",
   "execution_count": 9,
   "metadata": {},
   "outputs": [
    {
     "name": "stdout",
     "output_type": "stream",
     "text": [
      "Potencia:  259.51851851851853 W\n"
     ]
    }
   ],
   "source": [
    "mu=0.004\n",
    "Cres=0.9\n",
    "A=0.3\n",
    "densidade=1.225\n",
    "v=40/3.6\n",
    "massa=75\n",
    "g=9.8\n",
    "\n",
    "fCicl=mu*massa*g+Cres/2*A*densidade*v**2\n",
    "potencia=fCicl*v\n",
    "\n",
    "print(\"Potencia: \",potencia, \"W\")"
   ]
  },
  {
   "cell_type": "markdown",
   "metadata": {},
   "source": [
    "## 12.\n",
    "\n",
    "Determine a evolução temporal da velocidade de um ciclista, se este produzir continuamente a potência 0.4 cv e partir com um empurrão de 1 m/s? \n",
    "\n",
    "\n",
    "a) Qual a sua velocidade terminal?"
   ]
  },
  {
   "cell_type": "code",
   "execution_count": 1,
   "metadata": {},
   "outputs": [
    {
     "name": "stdout",
     "output_type": "stream",
     "text": [
      "Velocidade terminal =  11.627964697227572  m/s\n"
     ]
    },
    {
     "data": {
      "image/png": "[encoded data removed]",
      "text/plain": [
       "<Figure size 432x288 with 1 Axes>"
      ]
     },
     "metadata": {
      "needs_background": "light"
     },
     "output_type": "display_data"
    }
   ],
   "source": [
    "import numpy as np\n",
    "import matplotlib.pyplot as plt\n",
    "\n",
    "dt=0.001\n",
    "tf=200.00\n",
    "n=np.int(tf/dt)\n",
    "\n",
    "t=np.linspace(0,tf,n+1)\n",
    "\n",
    "potencia=0.4*735.49875\n",
    "mu=0.004\n",
    "Cres=0.9\n",
    "A=0.3\n",
    "densidade=1.225\n",
    "massa=75\n",
    "g=9.8\n",
    "v0x=1\n",
    "fAtrito=-mu*massa*g\n",
    "\n",
    "#Aqui uso n+1 por ser mais facil interpretar a formula da integração\n",
    "vel=np.empty(n+1)\n",
    "vx=np.empty(n+1)\n",
    "x=np.empty(n+1)\n",
    "ax=np.empty(n+1)\n",
    "vx=np.empty(n+1)\n",
    "aresx=np.empty(n+1)\n",
    "fCil=np.empty(n+1)\n",
    "vx[0]=v0x\n",
    "x[0]=0\n",
    "tolerancia=0.00000001\n",
    "\n",
    "\n",
    "for i in range(0,n):\n",
    "    vel[i]=np.sqrt(vx[i]**2)\n",
    "    aresx[i]=-Cres/(2*massa)*A*densidade*vel[i]*vx[i]\n",
    "    fCil[i]=potencia/(massa*vel[i])\n",
    "    ax[i]=fAtrito/massa+aresx[i]+fCil[i]\n",
    "    vx[i+1]=vx[i]+ax[i]*dt\n",
    "    x[i+1]=x[i]+vx[i]*dt\n",
    "    #velocidade terminal: considerar um valor muito pequeno a partir do qual e igual\n",
    "    if (vel[i]-vel[i-1]<tolerancia):\n",
    "        vTerminal=vel[i]\n",
    "        print (\"Velocidade terminal = \",vTerminal,\" m/s\")\n",
    "        break\n",
    "\n",
    "vel[i+1]=np.sqrt(vx[i+1]**2)\n",
    "\n",
    "\n",
    "\n",
    "\n",
    "\n",
    "plt.figure()\n",
    "plt.plot(t,vel)\n",
    "# plt.plot(t,energia,label='W Res')\n",
    "plt.ylabel('V (m/s)')\n",
    "plt.xlabel( 't (s)' )\n",
    "plt.grid()\n",
    "\n",
    "plt.show()\n"
   ]
  },
  {
   "cell_type": "markdown",
   "metadata": {},
   "source": [
    "b) Ao fim de quanto tempo atinge 90% da sua velocidade terminal? "
   ]
  },
  {
   "cell_type": "code",
   "execution_count": 2,
   "metadata": {},
   "outputs": [
    {
     "name": "stdout",
     "output_type": "stream",
     "text": [
      "Velocidade terminal =  11.627964697227572  m/s\n",
      "Tempo a 90%:  23.661\n"
     ]
    },
    {
     "data": {
      "image/png": "[encoded data removed]",
      "text/plain": [
       "<Figure size 432x288 with 1 Axes>"
      ]
     },
     "metadata": {
      "needs_background": "light"
     },
     "output_type": "display_data"
    }
   ],
   "source": [
    "import numpy as np\n",
    "import matplotlib.pyplot as plt\n",
    "\n",
    "dt=0.001\n",
    "tf=200.00\n",
    "n=np.int(tf/dt)\n",
    "\n",
    "t=np.linspace(0,tf,n+1)\n",
    "\n",
    "potencia=0.4*735.49875\n",
    "mu=0.004\n",
    "Cres=0.9\n",
    "A=0.3\n",
    "densidade=1.225\n",
    "massa=75\n",
    "g=9.8\n",
    "v0x=1\n",
    "fAtrito=-mu*massa*g\n",
    "\n",
    "\n",
    "#Aqui uso n+1 por ser mais facil interpretar a formula da integração\n",
    "vel=np.empty(n+1)\n",
    "vx=np.empty(n+1)\n",
    "x=np.empty(n+1)\n",
    "ax=np.empty(n+1)\n",
    "vx=np.empty(n+1)\n",
    "aresx=np.empty(n+1)\n",
    "fCil=np.empty(n+1)\n",
    "vx[0]=v0x\n",
    "x[0]=0\n",
    "tolerancia=0.00000001\n",
    "\n",
    "\n",
    "for i in range(0,n):\n",
    "    vel[i]=np.sqrt(vx[i]**2)\n",
    "    aresx[i]=-Cres/(2*massa)*A*densidade*vel[i]*vx[i]\n",
    "    fCil[i]=potencia/(massa*vel[i])\n",
    "    ax[i]=fAtrito/massa+aresx[i]+fCil[i]\n",
    "    vx[i+1]=vx[i]+ax[i]*dt\n",
    "    x[i+1]=x[i]+vx[i]*dt\n",
    "    #velocidade terminal: considerar um valor muito pequeno a partir do qual e igual\n",
    "    if (vel[i]-vel[i-1]<tolerancia):\n",
    "        vTerminal=vel[i]\n",
    "        print (\"Velocidade terminal = \",vTerminal,\" m/s\")\n",
    "        break\n",
    "\n",
    "vel[i+1]=np.sqrt(vx[i+1]**2)\n",
    "\n",
    "\n",
    "for i in range(0,n):\n",
    "    if vel[i]>0.9*vTerminal:\n",
    "        print (\"Tempo a 90%: \",t[i] )\n",
    "        break\n",
    "\n",
    "\n",
    "plt.figure()\n",
    "plt.plot(t,vel)\n",
    "# plt.plot(t,energia,label='W Res')\n",
    "plt.ylabel('V (m/s)')\n",
    "plt.xlabel( 't (s)' )\n",
    "plt.grid()\n",
    "\n",
    "plt.show()\n"
   ]
  },
  {
   "cell_type": "markdown",
   "metadata": {},
   "source": [
    "c) Quanto tempo leva a percorrer 2 km?\n",
    "Considere as mesmas condições do ciclista do problema 9."
   ]
  },
  {
   "cell_type": "code",
   "execution_count": 3,
   "metadata": {},
   "outputs": [
    {
     "name": "stdout",
     "output_type": "stream",
     "text": [
      "temp x=2km =  180.881 s\n"
     ]
    },
    {
     "data": {
      "image/png": "[encoded data removed]",
      "text/plain": [
       "<Figure size 432x288 with 1 Axes>"
      ]
     },
     "metadata": {
      "needs_background": "light"
     },
     "output_type": "display_data"
    }
   ],
   "source": [
    "import numpy as np\n",
    "import matplotlib.pyplot as plt\n",
    "\n",
    "dt=0.001\n",
    "tf=200.00\n",
    "n=np.int(tf/dt)\n",
    "\n",
    "t=np.linspace(0,tf,n+1)\n",
    "\n",
    "potencia=0.4*735.49875\n",
    "mu=0.004\n",
    "Cres=0.9\n",
    "A=0.3\n",
    "densidade=1.225\n",
    "massa=75\n",
    "g=9.8\n",
    "v0x=1\n",
    "fAtrito=-mu*massa*g\n",
    "\n",
    "#Aqui uso n+1 por ser mais facil interpretar a formula da integração\n",
    "vel=np.empty(n+1)\n",
    "vx=np.empty(n+1)\n",
    "x=np.empty(n+1)\n",
    "ax=np.empty(n+1)\n",
    "vx=np.empty(n+1)\n",
    "aresx=np.empty(n+1)\n",
    "fCil=np.empty(n+1)\n",
    "vx[0]=v0x\n",
    "x[0]=0\n",
    "tolerancia=0.00000001\n",
    "\n",
    "for i in range(0,n):\n",
    "    vel[i]=np.sqrt(vx[i]**2)\n",
    "    aresx[i]=-Cres/(2*massa)*A*densidade*vel[i]*vx[i]\n",
    "    fCil[i]=potencia/(massa*vel[i])\n",
    "    ax[i]=fAtrito/massa+aresx[i]+fCil[i]\n",
    "    vx[i+1]=vx[i]+ax[i]*dt\n",
    "    x[i+1]=x[i]+vx[i]*dt\n",
    "    #velocidade terminal: considerar um valor muito pequeno a partir do qual e igual\n",
    "    if (x[i+1]>=2000):\n",
    "        print (\"temp x=2km = \",t[i],\"s\")\n",
    "        break\n",
    "\n",
    "vel[i+1]=np.sqrt(vx[i+1]**2)\n",
    "\n",
    "\n",
    "\n",
    "\n",
    "plt.figure()\n",
    "plt.plot(t,vel)\n",
    "# plt.plot(t,energia,label='W Res')\n",
    "plt.ylabel('V (m/s)')\n",
    "plt.xlabel( 't (s)' )\n",
    "plt.grid()\n",
    "\n",
    "plt.show()\n"
   ]
  },
  {
   "cell_type": "markdown",
   "metadata": {},
   "source": [
    "## 13. \n",
    "Considere as mesmas condições do ciclista do problema 9.\n",
    "O ciclista do problema anterior sobe uma colina com uma inclinação de 5^°.\n",
    "\n",
    "\n",
    "a) Quanto tempo demora a percorrer 2 km?\n",
    "\n"
   ]
  },
  {
   "cell_type": "code",
   "execution_count": 14,
   "metadata": {},
   "outputs": [
    {
     "name": "stdout",
     "output_type": "stream",
     "text": [
      "477325/500000 elements\n",
      "temp x=2km =  477.325 s\n"
     ]
    },
    {
     "data": {
      "image/png": "[encoded data removed]",
      "text/plain": [
       "<Figure size 432x288 with 1 Axes>"
      ]
     },
     "metadata": {
      "needs_background": "light"
     },
     "output_type": "display_data"
    }
   ],
   "source": [
    "import numpy as np\n",
    "import matplotlib.pyplot as plt\n",
    "import math\n",
    "\n",
    "dt=0.001\n",
    "tf=500.00\n",
    "n=np.int(tf/dt)\n",
    "\n",
    "t=np.linspace(0,tf,n+1)\n",
    "\n",
    "potencia=0.4*735.49875\n",
    "mu=0.004\n",
    "Cres=0.9\n",
    "A=0.3\n",
    "densidade=1.225\n",
    "massa=75\n",
    "g=9.8\n",
    "theta=math.radians(5)\n",
    "v0x=1\n",
    "fAtrito=-mu*massa*g*math.cos(theta)\n",
    "# fAtrito=-mu*massa*g #segundo sugetsoa do Torres. Ver apontamentos\n",
    "\n",
    "#Aqui uso n+1 por ser mais facil interpretar a formula da integração\n",
    "vel=np.empty(n+1)\n",
    "vx=np.empty(n+1)\n",
    "x=np.empty(n+1)\n",
    "ax=np.empty(n+1)\n",
    "vx=np.empty(n+1)\n",
    "aresx=np.empty(n+1)\n",
    "fCil=np.empty(n+1)\n",
    "vx[0]=v0x\n",
    "x[0]=0\n",
    "tolerancia=0.00000001\n",
    "pesoX=-massa*g*math.sin(theta)\n",
    "\n",
    "for i in range(0,n):\n",
    "    vel[i]=np.sqrt(vx[i]**2)\n",
    "    aresx[i]=-Cres/(2*massa)*A*densidade*vel[i]*vx[i]\n",
    "    fCil[i]=potencia/(massa*vel[i])\n",
    "    ax[i]=fAtrito/massa+aresx[i]+fCil[i]+pesoX/massa\n",
    "    vx[i+1]=vx[i]+ax[i]*dt\n",
    "    x[i+1]=x[i]+vx[i]*dt\n",
    "    #velocidade terminal: considerar um valor muito pequeno a partir do qual e igual\n",
    "    if (x[i+1]>=2000):\n",
    "        print(\"{}/{} elements\".format(i,n))        \n",
    "        print (\"temp x=2km = \",t[i],\"s\")\n",
    "        \n",
    "        break\n",
    "\n",
    "vel[i+1]=np.sqrt(vx[i+1]**2)\n",
    "\n",
    "\n",
    "\n",
    "\n",
    "plt.figure()\n",
    "plt.plot(t,vel)\n",
    "# plt.plot(t,energia,label='W Res')\n",
    "plt.ylabel('V (m/s)')\n",
    "plt.xlabel( 't (s)' )\n",
    "plt.grid()\n",
    "\n",
    "plt.show()\n"
   ]
  },
  {
   "cell_type": "markdown",
   "metadata": {},
   "source": [
    "b) Qual a sua velocidade terminal?\n"
   ]
  },
  {
   "cell_type": "code",
   "execution_count": 5,
   "metadata": {},
   "outputs": [
    {
     "name": "stdout",
     "output_type": "stream",
     "text": [
      "Velocidade terminal =  4.207831062541653  m/s\n"
     ]
    },
    {
     "data": {
      "image/png": "[encoded data removed]",
      "text/plain": [
       "<Figure size 432x288 with 1 Axes>"
      ]
     },
     "metadata": {
      "needs_background": "light"
     },
     "output_type": "display_data"
    }
   ],
   "source": [
    "import numpy as np\n",
    "import matplotlib.pyplot as plt\n",
    "import math\n",
    "\n",
    "dt=0.001\n",
    "tf=50.00\n",
    "n=np.int(tf/dt)\n",
    "\n",
    "t=np.linspace(0,tf,n+1)\n",
    "\n",
    "potencia=0.4*735.49875\n",
    "mu=0.004\n",
    "Cres=0.9\n",
    "A=0.3\n",
    "densidade=1.225\n",
    "massa=75\n",
    "g=9.8\n",
    "theta=math.radians(5)\n",
    "v0x=1\n",
    "# fAtrito=-mu*massa*g*math.cos(teta)\n",
    "fAtrito=-mu*massa*g*np.cos(theta) #segundo sugetsoa do Torres. Ver apontamentos\n",
    "\n",
    "#Aqui uso n+1 por ser mais facil interpretar a formula da integração\n",
    "vel=np.empty(n+1)\n",
    "vx=np.empty(n+1)\n",
    "x=np.empty(n+1)\n",
    "ax=np.empty(n+1)\n",
    "vx=np.empty(n+1)\n",
    "aresx=np.empty(n+1)\n",
    "fCil=np.empty(n+1)\n",
    "vx[0]=v0x\n",
    "x[0]=0\n",
    "tolerancia=0.00000001\n",
    "pesoX=-massa*g*math.sin(theta)\n",
    "\n",
    "for i in range(0,n):\n",
    "    vel[i]=np.sqrt(vx[i]**2)\n",
    "    aresx[i]=-Cres/(2*massa)*A*densidade*vel[i]*vx[i] #resistencia ar  (compontente em x)\n",
    "    fCil[i]=potencia/(massa*vel[i]) # Força ciclista\n",
    "    ax[i]=fAtrito/massa+aresx[i]+fCil[i]+pesoX/massa\n",
    "    vx[i+1]=vx[i]+ax[i]*dt\n",
    "    x[i+1]=x[i]+vx[i]*dt\n",
    "#velocidade terminal: considerar um valor muito pequeno a partir do qual e igual\n",
    "    if (vel[i]-vel[i-1]<tolerancia):\n",
    "        vTerminal=vel[i]\n",
    "        print (\"Velocidade terminal = \",vTerminal,\" m/s\")\n",
    "        break\n",
    "\n",
    "vel[i+1]=np.sqrt(vx[i+1]**2)\n",
    "\n",
    "\n",
    "\n",
    "\n",
    "plt.figure()\n",
    "plt.plot(t,vel)\n",
    "# plt.plot(t,energia,label='W Res')\n",
    "plt.ylabel('V (m/s)')\n",
    "plt.xlabel( 't (s)' )\n",
    "plt.grid()\n",
    "\n",
    "plt.show()\n"
   ]
  },
  {
   "cell_type": "code",
   "execution_count": null,
   "metadata": {},
   "outputs": [],
   "source": []
  }
 ],
 "metadata": {
  "kernelspec": {
   "display_name": "Python 3 (ipykernel)",
   "language": "python",
   "name": "python3"
  },
  "language_info": {
   "codemirror_mode": {
    "name": "ipython",
    "version": 3
   },
   "file_extension": ".py",
   "mimetype": "text/x-python",
   "name": "python",
   "nbconvert_exporter": "python",
   "pygments_lexer": "ipython3",
   "version": "3.9.7"
  }
 },
 "nbformat": 4,
 "nbformat_minor": 4
}
